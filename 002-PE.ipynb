{
 "cells": [
  {
   "cell_type": "markdown",
   "id": "ce90bc88",
   "metadata": {},
   "source": [
    "# 关于市盈率"
   ]
  },
  {
   "cell_type": "markdown",
   "id": "5126b3b4",
   "metadata": {},
   "source": [
    "## 函数定义"
   ]
  },
  {
   "cell_type": "code",
   "execution_count": 1,
   "id": "f71301f2",
   "metadata": {},
   "outputs": [],
   "source": [
    "# 根据年份、年增长率 和 折现率，估算市盈率（PE）\n",
    "calc_PE <- function(year = 10, growth = 0.2, discount_rate = 0.05) {\n",
    "\n",
    "  asset = (1 + growth) ^ (0:year) # 假定初始净资产为1，每年固定增长为growth\n",
    "\n",
    "  earning = asset * growth # 净资产乘以增长率，作为当年的净利润\n",
    "\n",
    "  present = earning / (1 + discount_rate) ^ (0:year) # 将各年份的净利润，都折现到当前时间\n",
    "\n",
    "  value = asset[1] + sum(present) # 初始资产加上所有利润折现值，作为当前内在价值的估算\n",
    "\n",
    "  PE = value / asset[1] # 价值（或价格）除以初始资产，得到市盈率（PE）\n",
    "\n",
    "  return(PE)\n",
    "}"
   ]
  },
  {
   "cell_type": "markdown",
   "id": "ba855d59",
   "metadata": {},
   "source": [
    "## 函数使用"
   ]
  },
  {
   "cell_type": "code",
   "execution_count": 2,
   "id": "96ecfa7b",
   "metadata": {
    "scrolled": true
   },
   "outputs": [
    {
     "data": {
      "text/html": [
       "364.67552985125"
      ],
      "text/latex": [
       "364.67552985125"
      ],
      "text/markdown": [
       "364.67552985125"
      ],
      "text/plain": [
       "[1] 364.6755"
      ]
     },
     "metadata": {},
     "output_type": "display_data"
    }
   ],
   "source": [
    "calc_PE(year = 8, growth = 1, discount_rate = 0.05)"
   ]
  },
  {
   "cell_type": "markdown",
   "id": "adf49d9d",
   "metadata": {},
   "source": [
    "上述结果说明：对于 PE=360 的公司，（相对激进地）以 5% 折现率计算，基本上相当于预期其连续 8 年都保持 100%（翻倍）的增长率"
   ]
  },
  {
   "cell_type": "code",
   "execution_count": 3,
   "id": "c235d791",
   "metadata": {},
   "outputs": [
    {
     "data": {
      "text/html": [
       "265.168642963759"
      ],
      "text/latex": [
       "265.168642963759"
      ],
      "text/markdown": [
       "265.168642963759"
      ],
      "text/plain": [
       "[1] 265.1686"
      ]
     },
     "metadata": {},
     "output_type": "display_data"
    },
    {
     "data": {
      "text/html": [
       "482.306623570471"
      ],
      "text/latex": [
       "482.306623570471"
      ],
      "text/markdown": [
       "482.306623570471"
      ],
      "text/plain": [
       "[1] 482.3066"
      ]
     },
     "metadata": {},
     "output_type": "display_data"
    }
   ],
   "source": [
    "calc_PE(year = 8, growth = 1, discount_rate = 0.1)\n",
    "calc_PE(year = 9, growth = 1, discount_rate = 0.1)"
   ]
  },
  {
   "cell_type": "markdown",
   "id": "d2c5e74e",
   "metadata": {},
   "source": [
    "若折现率改为 10%（参考巴菲特的推荐，相对更保守些），则达到 PE=360，需要大约 8-9 年时间，都保持 100%（翻倍）的增长率"
   ]
  },
  {
   "cell_type": "code",
   "execution_count": 4,
   "id": "ea62a521",
   "metadata": {},
   "outputs": [
    {
     "data": {
      "text/html": [
       "286.263090688927"
      ],
      "text/latex": [
       "286.263090688927"
      ],
      "text/markdown": [
       "286.263090688927"
      ],
      "text/plain": [
       "[1] 286.2631"
      ]
     },
     "metadata": {},
     "output_type": "display_data"
    },
    {
     "data": {
      "text/html": [
       "442.945120379923"
      ],
      "text/latex": [
       "442.945120379923"
      ],
      "text/markdown": [
       "442.945120379923"
      ],
      "text/plain": [
       "[1] 442.9451"
      ]
     },
     "metadata": {},
     "output_type": "display_data"
    }
   ],
   "source": [
    "calc_PE(year = 55, growth = 0.2, discount_rate = 0.1)\n",
    "calc_PE(year = 60, growth = 0.2, discount_rate = 0.1)"
   ]
  },
  {
   "cell_type": "markdown",
   "id": "58d7f128",
   "metadata": {},
   "source": [
    "若增长率只能每年保持 20%，则需要 55-60 年时间，才能使实际资产积累，匹配到 PE=360 的估值"
   ]
  },
  {
   "cell_type": "code",
   "execution_count": null,
   "id": "85bfcbf1",
   "metadata": {},
   "outputs": [],
   "source": []
  }
 ],
 "metadata": {
  "kernelspec": {
   "display_name": "R",
   "language": "R",
   "name": "ir"
  },
  "language_info": {
   "codemirror_mode": "r",
   "file_extension": ".r",
   "mimetype": "text/x-r-source",
   "name": "R",
   "pygments_lexer": "r",
   "version": "4.2.3"
  }
 },
 "nbformat": 4,
 "nbformat_minor": 5
}
